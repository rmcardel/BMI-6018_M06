{
 "cells": [
  {
   "cell_type": "code",
   "execution_count": 11,
   "id": "62ebff5c",
   "metadata": {},
   "outputs": [
    {
     "data": {
      "text/plain": [
       "[6, 9, 12]"
      ]
     },
     "execution_count": 11,
     "metadata": {},
     "output_type": "execute_result"
    }
   ],
   "source": [
    "# PART 1: the humble print statement\n",
    "\n",
    "'''\n",
    "   The function takes in two lists of integers, then it adds\n",
    "   all of arg2 to each item of arg1.\n",
    "   \n",
    "   Example:\n",
    "      > wrong_add_function([1,2,3],[1,1,1])\n",
    "      > [6,9,12]\n",
    "\n",
    "   whereas the expected correct answer is, [2,3,4]\n",
    "\n",
    "   Parameters\n",
    "   ----------\n",
    "   arg1 : list\n",
    "      list of integers.\n",
    "   arg2 : list\n",
    "      list of integers.\n",
    "\n",
    "   Returns\n",
    "   -------\n",
    "   arg1 : list\n",
    "      Elements of arg1, with each element having had the contents of \n",
    "      arg2 added to it.\n",
    "'''\n",
    "def wrong_add_function(arg1,arg2):\n",
    "   arg1_index=0\n",
    "   while arg1_index < len(arg1):\n",
    "      arg_2_sum = 0\n",
    "      for arg2_elements in arg2:\n",
    "         arg_2_sum = sum([arg1[arg1_index]+i for i in arg2])\n",
    "      arg1[arg1_index]=arg_2_sum  \n",
    "      arg1_index+=1\n",
    "   return arg1\n",
    "\n",
    "arg1 = [1,2,3]\n",
    "arg2 = [1,1,1]\n",
    "\n",
    "wrong_add_function(arg1, arg2)\n"
   ]
  },
  {
   "cell_type": "code",
   "execution_count": 68,
   "id": "511d8c10",
   "metadata": {},
   "outputs": [
    {
     "name": "stdout",
     "output_type": "stream",
     "text": [
      "When i=0, the output at that index is 6. The correct answer for index 0 is supposed to be 2\n",
      "When i=1, the output at that index is 9. The correct answer for index 1 is supposed to be 3\n",
      "When i=2, the output at that index is 12. The correct answer for index 2 is supposed to be 4\n",
      "[6, 9, 12]\n"
     ]
    }
   ],
   "source": [
    "# 1.a Using the print() function only, get the wrong_add_function to print out where it is making a mistake, given the expected \n",
    "# output for ex, \"we are making an error in the loop\", which you would put near the loop. \n",
    "# Structure the print() statement to show what the expected output ought to be via f-strings: \n",
    "# ie \"The correct answer is supposed to be: [...]\".\n",
    "\n",
    "def wrong_add_function(arg1,arg2):\n",
    "   arg1_index=0\n",
    "   while arg1_index < len(arg1):\n",
    "      arg_2_sum = 0\n",
    "      for arg2_elements in arg2:\n",
    "         arg_2_sum = sum([arg1[arg1_index]+i for i in arg2])\n",
    "      print(f\"When i={arg1_index}, the output at that index is {arg_2_sum}. The correct answer for index {arg1_index} is supposed to be {arg1[arg1_index] + arg2[arg1_index]}\")  \n",
    "      arg1[arg1_index]=arg_2_sum  \n",
    "      arg1_index+=1\n",
    "   return arg1\n",
    "\n",
    "    \n",
    "\n",
    "arg1 = [1,2,3]\n",
    "arg2 = [1,1,1]\n",
    "\n",
    "one_a = wrong_add_function(arg1,arg2)\n",
    "print(one_a)"
   ]
  },
  {
   "cell_type": "code",
   "execution_count": 69,
   "id": "1b8e2b5d",
   "metadata": {},
   "outputs": [
    {
     "name": "stdout",
     "output_type": "stream",
     "text": [
      "[2, 3, 4]\n"
     ]
    }
   ],
   "source": [
    "# 1.b Then, changing as little as possible, modify the function, using the same general structure to output the correct answer. \n",
    "# Call this new function correct_add_function() \n",
    "\n",
    "def correct_add_function(arg1,arg2):\n",
    "   arg1_index=0\n",
    "   while arg1_index < len(arg1):\n",
    "      arg_2_sum = 0\n",
    "      for arg2_elements in arg2:\n",
    "         arg_2_sum = sum([arg1[arg1_index]+arg2[arg1_index]])\n",
    "      arg1[arg1_index]=arg_2_sum  \n",
    "      arg1_index+=1\n",
    "   return arg1\n",
    "\n",
    "arg1 = [1,2,3]\n",
    "arg2 = [1,1,1]\n",
    "\n",
    "one_b = correct_add_function(arg1, arg2)\n",
    "print(one_b)"
   ]
  },
  {
   "cell_type": "code",
   "execution_count": 76,
   "id": "50d8e49d",
   "metadata": {},
   "outputs": [
    {
     "data": {
      "text/plain": [
       "[6, 9, 12]"
      ]
     },
     "execution_count": 76,
     "metadata": {},
     "output_type": "execute_result"
    }
   ],
   "source": [
    "# PART 2: try, except\n",
    "\n",
    "'''\n",
    "   The function takes in two lists of integers, then it adds\n",
    "   all of arg2 to each item of arg1.\n",
    "   \n",
    "   Example:\n",
    "      > wrong_add_function([1,2,3],[1,1,1])\n",
    "      > [4,5,6]\n",
    "   \n",
    "   If the lists are lists of strings, concatenate them\n",
    "   Example:\n",
    "      > wrong_add_function(['1','2','3'],['1','1','1'])\n",
    "      > ['1111','2111','3111']\n",
    "   Parameters\n",
    "   ----------\n",
    "   arg1 : list\n",
    "      list of integers.\n",
    "   arg2 : list\n",
    "      list of integers.\n",
    "\n",
    "   Returns\n",
    "   -------\n",
    "   arg1 : list\n",
    "      Elements of arg1, with each element having had the contents of \n",
    "      arg2 added to it.\n",
    "\n",
    "'''\n",
    "\n",
    "def wrong_add_function(arg1,arg2):\n",
    "   #numeric section\n",
    "   if sum([type(i)==int for i in arg1])==len(arg1) and \\\n",
    "      sum([type(i)==int for i in arg2])==len(arg2):\n",
    "         arg1_index=0\n",
    "         while arg1_index < len(arg1):\n",
    "            arg_2_sum = 0\n",
    "            for arg2_elements in arg2:\n",
    "               arg_2_sum = sum([arg1[arg1_index]+i for i in arg2])\n",
    "            arg1[arg1_index]=arg_2_sum  \n",
    "            arg1_index+=1\n",
    "         return arg1\n",
    "   #string section\n",
    "   elif sum([type(i)==str for i in arg1])==len(arg1) and \\\n",
    "      sum([type(i)==str for i in arg2])==len(arg2):\n",
    "         arg1_index=0\n",
    "         while arg1_index < len(arg1):\n",
    "            arg_2_sum = ''\n",
    "            for arg2_elements in arg2:\n",
    "               arg_2_sum += arg2_elements\n",
    "            arg1[arg1_index]=arg1[arg1_index]+str(arg_2_sum)\n",
    "            arg1_index+=1\n",
    "         return arg1\n",
    "arg_str_1=['1','2','3']\n",
    "arg_str_2=['1','1', 1]\n",
    "\n",
    "arg_1=[1,2,3]\n",
    "arg_2=[1,1, 1]\n",
    "\n",
    "wrong_add_function(arg_str_1,arg_str_2)"
   ]
  },
  {
   "cell_type": "code",
   "execution_count": 9,
   "id": "91a5ba4a",
   "metadata": {},
   "outputs": [
    {
     "name": "stdout",
     "output_type": "stream",
     "text": [
      "[4, 5, 6]\n",
      "['1111', '2111', '3111']\n"
     ]
    }
   ],
   "source": [
    "# 2.a Update the numeric section of the function with your changes from 1 for both 2.b and 2.c\n",
    "# Umang said in the discussion to not do that, but instead modify it so the numeric output is [4,5,6]\n",
    "\n",
    "def function2b(arg1,arg2):\n",
    "   if sum([type(i)==int for i in arg1])==len(arg1) and \\\n",
    "      sum([type(i)==int for i in arg2])==len(arg2):\n",
    "         arg1_index=0\n",
    "         while arg1_index < len(arg1):\n",
    "            arg_2_sum = 0\n",
    "            for arg2_elements in arg2:\n",
    "               arg_2_sum = arg1[arg1_index]+sum(arg2)\n",
    "            arg1[arg1_index]=arg_2_sum  \n",
    "            arg1_index+=1\n",
    "         return arg1\n",
    "   #string section\n",
    "   elif sum([type(i)==str for i in arg1])==len(arg1) and \\\n",
    "      sum([type(i)==str for i in arg2])==len(arg2):\n",
    "         arg1_index=0\n",
    "         while arg1_index < len(arg1):\n",
    "            arg_2_sum = ''\n",
    "            for arg2_elements in arg2:\n",
    "               arg_2_sum += arg2_elements\n",
    "            arg1[arg1_index]=arg1[arg1_index]+str(arg_2_sum)\n",
    "            arg1_index+=1\n",
    "         return arg1\n",
    "\n",
    "arg_str_1=['1','2','3']\n",
    "arg_str_2=['1','1', '1']\n",
    "\n",
    "arg_1=[1,2,3]\n",
    "arg_2=[1,1, 1]\n",
    "\n",
    "two_a = function2b(arg_1,arg_2)\n",
    "print(two_a)\n",
    "\n",
    "two_str = function2b(arg_str_1, arg_str_2)\n",
    "print(two_str)"
   ]
  },
  {
   "cell_type": "code",
   "execution_count": 42,
   "id": "3dfdb77e",
   "metadata": {},
   "outputs": [],
   "source": [
    "# 2.b Without modifying the string section code itself or the input directly, write a try, except block that catches the issue \n",
    "# with the input below and returns an error message to the user, in case users give invalid inputs,(for example an input of \n",
    "# [\"5\",\"2\", 5]) : \"Your input argument [1 or 2] at element [n] is not of the expected type. Please change this and rerun.\" \n",
    "# Name this function exception_add_function()"
   ]
  },
  {
   "cell_type": "code",
   "execution_count": 26,
   "id": "88cb3630",
   "metadata": {},
   "outputs": [
    {
     "ename": "Exception",
     "evalue": "Your second input argument (['1', '1', 1]) at element 2 is not of the expected type. Please change this and rerun.",
     "output_type": "error",
     "traceback": [
      "\u001b[1;31m---------------------------------------------------------------------------\u001b[0m",
      "\u001b[1;31mException\u001b[0m                                 Traceback (most recent call last)",
      "\u001b[1;32m~\\AppData\\Local\\Temp/ipykernel_13988/1567358580.py\u001b[0m in \u001b[0;36m<module>\u001b[1;34m\u001b[0m\n\u001b[0;32m     41\u001b[0m \u001b[1;33m\u001b[0m\u001b[0m\n\u001b[0;32m     42\u001b[0m \u001b[1;33m\u001b[0m\u001b[0m\n\u001b[1;32m---> 43\u001b[1;33m \u001b[0mexception_add_function\u001b[0m\u001b[1;33m(\u001b[0m\u001b[0marg_str_1\u001b[0m\u001b[1;33m,\u001b[0m\u001b[0marg_str_2\u001b[0m\u001b[1;33m)\u001b[0m\u001b[1;33m\u001b[0m\u001b[1;33m\u001b[0m\u001b[0m\n\u001b[0m",
      "\u001b[1;32m~\\AppData\\Local\\Temp/ipykernel_13988/1567358580.py\u001b[0m in \u001b[0;36mexception_add_function\u001b[1;34m(arg1, arg2)\u001b[0m\n\u001b[0;32m     31\u001b[0m        \u001b[1;32mfor\u001b[0m \u001b[0mx\u001b[0m \u001b[1;32min\u001b[0m \u001b[0mrange\u001b[0m\u001b[1;33m(\u001b[0m\u001b[0mlen\u001b[0m\u001b[1;33m(\u001b[0m\u001b[0marg2\u001b[0m\u001b[1;33m)\u001b[0m\u001b[1;33m)\u001b[0m\u001b[1;33m:\u001b[0m\u001b[1;33m\u001b[0m\u001b[1;33m\u001b[0m\u001b[0m\n\u001b[0;32m     32\u001b[0m          \u001b[1;32mif\u001b[0m \u001b[0misinstance\u001b[0m\u001b[1;33m(\u001b[0m\u001b[0marg2\u001b[0m\u001b[1;33m[\u001b[0m\u001b[0mx\u001b[0m\u001b[1;33m]\u001b[0m\u001b[1;33m,\u001b[0m \u001b[0mstr\u001b[0m\u001b[1;33m)\u001b[0m \u001b[1;33m!=\u001b[0m \u001b[1;32mTrue\u001b[0m\u001b[1;33m:\u001b[0m\u001b[1;33m\u001b[0m\u001b[1;33m\u001b[0m\u001b[0m\n\u001b[1;32m---> 33\u001b[1;33m             \u001b[1;32mraise\u001b[0m \u001b[0mException\u001b[0m\u001b[1;33m(\u001b[0m\u001b[1;34mf\"Your second input argument ({arg2}) at element {x} is not of the expected type. Please change this and rerun.\"\u001b[0m\u001b[1;33m)\u001b[0m\u001b[1;33m\u001b[0m\u001b[1;33m\u001b[0m\u001b[0m\n\u001b[0m\u001b[0;32m     34\u001b[0m  \u001b[1;32mif\u001b[0m \u001b[0msum\u001b[0m\u001b[1;33m(\u001b[0m\u001b[1;33m[\u001b[0m\u001b[0mtype\u001b[0m\u001b[1;33m(\u001b[0m\u001b[0mi\u001b[0m\u001b[1;33m)\u001b[0m\u001b[1;33m==\u001b[0m\u001b[0mstr\u001b[0m \u001b[1;32mfor\u001b[0m \u001b[0mi\u001b[0m \u001b[1;32min\u001b[0m \u001b[0marg1\u001b[0m\u001b[1;33m]\u001b[0m\u001b[1;33m)\u001b[0m\u001b[1;33m!=\u001b[0m\u001b[0mlen\u001b[0m\u001b[1;33m(\u001b[0m\u001b[0marg1\u001b[0m\u001b[1;33m)\u001b[0m \u001b[1;32mand\u001b[0m\u001b[0;31m \u001b[0m\u001b[0;31m\\\u001b[0m\u001b[1;33m\u001b[0m\u001b[1;33m\u001b[0m\u001b[0m\n\u001b[0;32m     35\u001b[0m       \u001b[0msum\u001b[0m\u001b[1;33m(\u001b[0m\u001b[1;33m[\u001b[0m\u001b[0mtype\u001b[0m\u001b[1;33m(\u001b[0m\u001b[0mi\u001b[0m\u001b[1;33m)\u001b[0m\u001b[1;33m==\u001b[0m\u001b[0mstr\u001b[0m \u001b[1;32mfor\u001b[0m \u001b[0mi\u001b[0m \u001b[1;32min\u001b[0m \u001b[0marg2\u001b[0m\u001b[1;33m]\u001b[0m\u001b[1;33m)\u001b[0m\u001b[1;33m!=\u001b[0m\u001b[0mlen\u001b[0m\u001b[1;33m(\u001b[0m\u001b[0marg2\u001b[0m\u001b[1;33m)\u001b[0m\u001b[1;33m:\u001b[0m\u001b[1;33m\u001b[0m\u001b[1;33m\u001b[0m\u001b[0m\n",
      "\u001b[1;31mException\u001b[0m: Your second input argument (['1', '1', 1]) at element 2 is not of the expected type. Please change this and rerun."
     ]
    }
   ],
   "source": [
    "def exception_add_function(arg1,arg2):  \n",
    " if sum([type(i)==int for i in arg1])==len(arg1) and \\\n",
    "      sum([type(i)==int for i in arg2])==len(arg2):\n",
    "         arg1_index=0\n",
    "         while arg1_index < len(arg1):\n",
    "            arg_2_sum = 0\n",
    "            for arg2_elements in arg2:\n",
    "               arg_2_sum = arg1[arg1_index]+sum(arg2)\n",
    "            arg1[arg1_index]=arg_2_sum  \n",
    "            arg1_index+=1\n",
    "         return arg1\n",
    "   #string section\n",
    " elif sum([type(i)==str for i in arg1])==len(arg1) and \\\n",
    "      sum([type(i)==str for i in arg2])==len(arg2):\n",
    "         arg1_index=0\n",
    "         while arg1_index < len(arg1):\n",
    "            arg_2_sum = ''\n",
    "            for arg2_elements in arg2:\n",
    "               arg_2_sum += arg2_elements\n",
    "            arg1[arg1_index]=arg1[arg1_index]+str(arg_2_sum)\n",
    "            arg1_index+=1\n",
    "         return arg1\n",
    " if sum([type(i)==str for i in arg1])!=len(arg1) and \\\n",
    "      sum([type(i)==str for i in arg2])==len(arg2):\n",
    "        for x in range(len(arg1)):\n",
    "         if isinstance(arg1[x], str) != True:\n",
    "            raise Exception(f\"Your first input argument ({arg1}) at element {x} is not of the expected type. Please change this and rerun.\")\n",
    "            \n",
    " if sum([type(i)==str for i in arg1])==len(arg1) and \\\n",
    "      sum([type(i)==str for i in arg2])!=len(arg2):\n",
    "       for x in range(len(arg2)):\n",
    "         if isinstance(arg2[x], str) != True:\n",
    "            raise Exception(f\"Your second input argument ({arg2}) at element {x} is not of the expected type. Please change this and rerun.\")\n",
    " if sum([type(i)==str for i in arg1])!=len(arg1) and \\\n",
    "      sum([type(i)==str for i in arg2])!=len(arg2):\n",
    "            raise Exception(\"Please ensure all elements in each argument are of same type and rerun.\")\n",
    "\n",
    "\n",
    "arg_str_1=['1','2','3']\n",
    "arg_str_2=['1','1', 1]\n",
    "\n",
    "\n",
    "exception_add_function(arg_str_1,arg_str_2)"
   ]
  },
  {
   "cell_type": "code",
   "execution_count": 10,
   "id": "340b09fb",
   "metadata": {},
   "outputs": [
    {
     "ename": "Exception",
     "evalue": "Your input argument ['1', '1', 1] at element 2 is not of the expected type. Please change this and rerun.",
     "output_type": "error",
     "traceback": [
      "\u001b[1;31m---------------------------------------------------------------------------\u001b[0m",
      "\u001b[1;31mException\u001b[0m                                 Traceback (most recent call last)",
      "\u001b[1;32m~\\AppData\\Local\\Temp/ipykernel_21928/831469013.py\u001b[0m in \u001b[0;36m<module>\u001b[1;34m\u001b[0m\n\u001b[0;32m      5\u001b[0m \u001b[1;33m\u001b[0m\u001b[0m\n\u001b[0;32m      6\u001b[0m \u001b[0marg_str_2\u001b[0m\u001b[1;33m=\u001b[0m\u001b[1;33m[\u001b[0m\u001b[1;34m'1'\u001b[0m\u001b[1;33m,\u001b[0m\u001b[1;34m'1'\u001b[0m\u001b[1;33m,\u001b[0m \u001b[1;36m1\u001b[0m\u001b[1;33m]\u001b[0m\u001b[1;33m\u001b[0m\u001b[1;33m\u001b[0m\u001b[0m\n\u001b[1;32m----> 7\u001b[1;33m \u001b[0mraise_add_function\u001b[0m\u001b[1;33m(\u001b[0m\u001b[0marg_str_2\u001b[0m\u001b[1;33m)\u001b[0m\u001b[1;33m\u001b[0m\u001b[1;33m\u001b[0m\u001b[0m\n\u001b[0m",
      "\u001b[1;32m~\\AppData\\Local\\Temp/ipykernel_21928/831469013.py\u001b[0m in \u001b[0;36mraise_add_function\u001b[1;34m(arg)\u001b[0m\n\u001b[0;32m      2\u001b[0m     \u001b[1;32mfor\u001b[0m \u001b[0mx\u001b[0m \u001b[1;32min\u001b[0m \u001b[0mrange\u001b[0m\u001b[1;33m(\u001b[0m\u001b[0mlen\u001b[0m\u001b[1;33m(\u001b[0m\u001b[0marg\u001b[0m\u001b[1;33m)\u001b[0m\u001b[1;33m)\u001b[0m\u001b[1;33m:\u001b[0m\u001b[1;33m\u001b[0m\u001b[1;33m\u001b[0m\u001b[0m\n\u001b[0;32m      3\u001b[0m         \u001b[1;32mif\u001b[0m \u001b[0misinstance\u001b[0m\u001b[1;33m(\u001b[0m\u001b[0marg\u001b[0m\u001b[1;33m[\u001b[0m\u001b[0mx\u001b[0m\u001b[1;33m]\u001b[0m\u001b[1;33m,\u001b[0m \u001b[0mstr\u001b[0m\u001b[1;33m)\u001b[0m \u001b[1;33m!=\u001b[0m \u001b[1;32mTrue\u001b[0m\u001b[1;33m:\u001b[0m\u001b[1;33m\u001b[0m\u001b[1;33m\u001b[0m\u001b[0m\n\u001b[1;32m----> 4\u001b[1;33m             \u001b[1;32mraise\u001b[0m \u001b[0mException\u001b[0m\u001b[1;33m(\u001b[0m\u001b[1;34mf\"Your input argument {arg} at element {x} is not of the expected type. Please change this and rerun.\"\u001b[0m\u001b[1;33m)\u001b[0m\u001b[1;33m\u001b[0m\u001b[1;33m\u001b[0m\u001b[0m\n\u001b[0m\u001b[0;32m      5\u001b[0m \u001b[1;33m\u001b[0m\u001b[0m\n\u001b[0;32m      6\u001b[0m \u001b[0marg_str_2\u001b[0m\u001b[1;33m=\u001b[0m\u001b[1;33m[\u001b[0m\u001b[1;34m'1'\u001b[0m\u001b[1;33m,\u001b[0m\u001b[1;34m'1'\u001b[0m\u001b[1;33m,\u001b[0m \u001b[1;36m1\u001b[0m\u001b[1;33m]\u001b[0m\u001b[1;33m\u001b[0m\u001b[1;33m\u001b[0m\u001b[0m\n",
      "\u001b[1;31mException\u001b[0m: Your input argument ['1', '1', 1] at element 2 is not of the expected type. Please change this and rerun."
     ]
    }
   ],
   "source": [
    "# can't get a try, except block to work...raise Exception seems to apply better to this question.\n",
    "\n",
    "def raise_add_function(arg):\n",
    "    for x in range(len(arg)):\n",
    "        if isinstance(arg[x], str) != True:\n",
    "            raise Exception(f\"Your input argument {arg} at element {x} is not of the expected type. Please change this and rerun.\")\n",
    "            \n",
    "arg_str_2=['1','1', 1]\n",
    "raise_add_function(arg_str_2)\n"
   ]
  },
  {
   "cell_type": "code",
   "execution_count": 21,
   "id": "405ee779",
   "metadata": {
    "scrolled": true
   },
   "outputs": [],
   "source": [
    "# https://docs.python.org/3/library/exceptions.html#TypeError\n",
    "# can't get a try, except block to work...\n",
    "\n",
    "def exception_add_function(arg):\n",
    "    for x in range(len(arg)):\n",
    "        try:\n",
    "            isinstance(arg[x],str) == True\n",
    "        except TypeError:\n",
    "            print(f\"Your input argument {arg} at element {x} is not of the expected type. Please change this and rerun.\")\n",
    "       \n",
    "            \n",
    "arg_str_2=['1','1', 1]\n",
    "exception_add_function(arg_str_2)\n"
   ]
  },
  {
   "cell_type": "code",
   "execution_count": null,
   "id": "dc08e97f",
   "metadata": {},
   "outputs": [],
   "source": [
    "# 2.c Without modifying the string section code itself or the input directly, write a try, except block that catches the issue \n",
    "# with the input below and gets it to process via the string section. \n",
    "# IE, do not, outside the function, change the values of arg_str_1 or arg_str_2. \n",
    "# Name this function correction_add_function(), i.e you will not be updating the wrong_add_function, you will simply handle the \n",
    "# error of wrong inputs in a seperate function, you want the wrong_add_function to output its current result you are only \n",
    "# bolstering the function for edge cases."
   ]
  },
  {
   "cell_type": "code",
   "execution_count": 25,
   "id": "1506a3e7",
   "metadata": {},
   "outputs": [
    {
     "data": {
      "text/plain": [
       "['1111', '2111', '3111']"
      ]
     },
     "execution_count": 25,
     "metadata": {},
     "output_type": "execute_result"
    }
   ],
   "source": [
    "def correction_add_function(arg1,arg2):\n",
    " if sum([type(i)==int for i in arg1])==len(arg1) and \\\n",
    "      sum([type(i)==int for i in arg2])==len(arg2):\n",
    "         arg1_index=0\n",
    "         while arg1_index < len(arg1):\n",
    "            arg_2_sum = 0\n",
    "            for arg2_elements in arg2:\n",
    "               arg_2_sum = arg1[arg1_index]+sum(arg2)\n",
    "            arg1[arg1_index]=arg_2_sum  \n",
    "            arg1_index+=1\n",
    "         return arg1\n",
    "\n",
    " elif sum([type(i)==str for i in arg1])==len(arg1) and \\\n",
    "      sum([type(i)==str for i in arg2])==len(arg2):\n",
    "         arg1_index=0\n",
    "         while arg1_index < len(arg1):\n",
    "            arg_2_sum = ''\n",
    "            for arg2_elements in arg2:\n",
    "               arg_2_sum += arg2_elements\n",
    "            arg1[arg1_index]=arg1[arg1_index]+str(arg_2_sum)\n",
    "            arg1_index+=1\n",
    "         return arg1\n",
    " \n",
    " if sum([type(i)==str for i in arg1])!=len(arg1):\n",
    "        for x in range(len(arg1)):\n",
    "         if isinstance(arg1[x], str) != True:\n",
    "            arg1[x] = str(arg1[x])\n",
    "            \n",
    " if sum([type(i)==str for i in arg2])!=len(arg2):\n",
    "    for x in range(len(arg2)):\n",
    "        if isinstance(arg2[x], str) != True:\n",
    "            arg2[x] = str(arg2[x])\n",
    " return correction_add_function(arg1, arg2)\n",
    "\n",
    "\n",
    "arg_str_1=['1','2','3']\n",
    "arg_str_2=['1','1', 1]\n",
    "\n",
    "\n",
    "correction_add_function(arg_str_1,arg_str_2)"
   ]
  },
  {
   "cell_type": "code",
   "execution_count": 32,
   "id": "d12e64ac",
   "metadata": {},
   "outputs": [],
   "source": [
    "def tryex(arg1,arg2):\n",
    " try:\n",
    "    sum([type(i)==str for i in arg1])==len(arg1) and \\\n",
    "      sum([type(i)==str for i in arg2])==len(arg2)\n",
    " except:\n",
    "    print(\"works\")"
   ]
  },
  {
   "cell_type": "code",
   "execution_count": 33,
   "id": "feeafb69",
   "metadata": {},
   "outputs": [],
   "source": [
    "tryex(arg_str_1,arg_str_2)"
   ]
  },
  {
   "cell_type": "code",
   "execution_count": null,
   "id": "9977f204",
   "metadata": {},
   "outputs": [],
   "source": []
  }
 ],
 "metadata": {
  "kernelspec": {
   "display_name": "Python 3 (ipykernel)",
   "language": "python",
   "name": "python3"
  },
  "language_info": {
   "codemirror_mode": {
    "name": "ipython",
    "version": 3
   },
   "file_extension": ".py",
   "mimetype": "text/x-python",
   "name": "python",
   "nbconvert_exporter": "python",
   "pygments_lexer": "ipython3",
   "version": "3.9.7"
  }
 },
 "nbformat": 4,
 "nbformat_minor": 5
}
